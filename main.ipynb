{
 "cells": [
  {
   "cell_type": "code",
   "execution_count": 1,
   "metadata": {},
   "outputs": [],
   "source": [
    "import shodan\n",
    "import matplotlib.pyplot as plt\n",
    "from IPython.core.display import display, HTML\n",
    "from string import Template\n",
    "import json\n",
    "import networkx as nx\n",
    "import re"
   ]
  },
  {
   "cell_type": "code",
   "execution_count": 2,
   "metadata": {
    "scrolled": true
   },
   "outputs": [],
   "source": [
    "nodes = set()\n",
    "edges = set()\n",
    "isps = {}\n",
    "ips = {}\n",
    "\n",
    "c = 0\n",
    "for banner in shodan.helpers.iterate_files('isp10k.json.gz'):\n",
    "    if c >= 1e4:\n",
    "        break\n",
    "    \n",
    "    nodes.add(banner['isp'])\n",
    "    isps[banner['isp']] = isps[banner['isp']] + 1 if isps.get(banner['isp']) else 1\n",
    "    nodes.add(banner['ip_str'])\n",
    "    edges.add((banner['ip_str'], banner['isp']))\n",
    "    \n",
    "    tags = banner.get('tags') and ' '.join(banner['tags'])\n",
    "    ips[banner['ip_str']] = (banner['org'], banner['location']['city'], banner['os'], tags)"
   ]
  },
  {
   "cell_type": "code",
   "execution_count": null,
   "metadata": {
    "scrolled": true
   },
   "outputs": [],
   "source": [
    "G = nx.Graph()\n",
    "G.add_nodes_from(nodes)\n",
    "G.add_edges_from(edges)\n",
    "pos = nx.nx_agraph.graphviz_layout(G)"
   ]
  },
  {
   "cell_type": "code",
   "execution_count": null,
   "metadata": {
    "scrolled": true
   },
   "outputs": [],
   "source": [
    "graph = {'nodes': [], 'edges': []}\n",
    "for node in nodes:\n",
    "    color = 'red'\n",
    "    if node in ips:\n",
    "        color = 'black'\n",
    "    \n",
    "    label = ''\n",
    "    if node in ips:\n",
    "        label = node + ' | org: %s, city: %s, os: %s, tags: %s' % ips[node]\n",
    "    else:\n",
    "        label = '%s: %d IPs' % (node, isps[node])\n",
    "    \n",
    "    graph['nodes'].append({\n",
    "        'id': node,\n",
    "        'label': label,\n",
    "        'x': pos[node][0],\n",
    "        'y': pos[node][1],\n",
    "        'color': color\n",
    "    })\n",
    "\n",
    "for i, edge in enumerate(edges):\n",
    "    graph['edges'].append({\n",
    "        'id': i,\n",
    "        'source': edge[0],\n",
    "        'target': edge[1],\n",
    "        'color': 'rgba(200, 200, 200, .5)'\n",
    "    })\n",
    "\n",
    "print(len(graph['nodes']), len(graph['edges']))"
   ]
  },
  {
   "cell_type": "code",
   "execution_count": null,
   "metadata": {},
   "outputs": [],
   "source": [
    "js_template = Template('''\n",
    "graph = $graph_data\n",
    "\n",
    "S = new sigma({\n",
    "  graph: graph,\n",
    "  renderer: {\n",
    "    container: 'container',\n",
    "    type: 'canvas'\n",
    "  },\n",
    "  settings: {\n",
    "    labelThreshold: 1e3\n",
    "  }\n",
    "})\n",
    "\n",
    "sigma.plugins.relativeSize(S, 1)\n",
    "\n",
    "S.refresh()\n",
    "''')\n",
    "\n",
    "html_template = Template('''\n",
    "<!DOCTYPE html>\n",
    "<html>\n",
    "  <head>\n",
    "    <title>IPISP</title>\n",
    "    <meta charset='utf-8'>\n",
    "  </head>\n",
    "  <body>\n",
    "    <h1 style='font-family:sans-serif;text-align:center'>$title</h1>\n",
    "    <p style='font-family:sans-serif;text-align:center'>Drag, click, and scroll on the map to interact.</p>\n",
    "    <br>\n",
    "    <div id='container' style='height:800px;overflow: hidden'></div>\n",
    "    <script src='https://cdnjs.cloudflare.com/ajax/libs/sigma.js/1.2.1/sigma.min.js'></script>\n",
    "    <script src='https://cdnjs.cloudflare.com/ajax/libs/sigma.js/1.2.1/plugins/sigma.plugins.relativeSize.min.js'></script>\n",
    "    <script>$js_text</script>\n",
    "  </body>\n",
    "</html>\n",
    "''')"
   ]
  },
  {
   "cell_type": "code",
   "execution_count": null,
   "metadata": {
    "scrolled": false
   },
   "outputs": [],
   "source": [
    "js_text = js_template.substitute({\n",
    "    'graph_data': json.dumps(graph)\n",
    "})\n",
    "\n",
    "h = html_template.substitute({\n",
    "    'title': '10000 Exposed IPs in the UAE on 4/27/2020',\n",
    "    'js_text': js_text\n",
    "})\n",
    "\n",
    "f = open('index.html', 'w+')\n",
    "f.write(h)\n",
    "f.close()\n",
    "\n",
    "HTML(h)"
   ]
  },
  {
   "cell_type": "code",
   "execution_count": null,
   "metadata": {},
   "outputs": [],
   "source": []
  }
 ],
 "metadata": {
  "kernelspec": {
   "display_name": "Python 3",
   "language": "python",
   "name": "python3"
  },
  "language_info": {
   "codemirror_mode": {
    "name": "ipython",
    "version": 3
   },
   "file_extension": ".py",
   "mimetype": "text/x-python",
   "name": "python",
   "nbconvert_exporter": "python",
   "pygments_lexer": "ipython3",
   "version": "3.6.7"
  }
 },
 "nbformat": 4,
 "nbformat_minor": 4
}
