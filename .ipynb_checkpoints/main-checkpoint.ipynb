{
 "cells": [
  {
   "cell_type": "code",
   "execution_count": 1,
   "metadata": {},
   "outputs": [],
   "source": [
    "import shodan\n",
    "import matplotlib.pyplot as plt\n",
    "from IPython.core.display import display, HTML\n",
    "from string import Template\n",
    "import json\n",
    "import networkx as nx"
   ]
  },
  {
   "cell_type": "code",
   "execution_count": 2,
   "metadata": {},
   "outputs": [
    {
     "data": {
      "text/html": [
       "\n",
       "<script src='https://cdnjs.cloudflare.com/ajax/libs/sigma.js/1.2.1/sigma.min.js'></script>\n",
       "<script src='https://cdnjs.cloudflare.com/ajax/libs/sigma.js/1.2.1/plugins/sigma.plugins.relativeSize.min.js'></script>\n",
       "<script src='https://cdnjs.cloudflare.com/ajax/libs/sigma.js/1.2.1/plugins/sigma.layout.noverlap.min.js'></script>\n"
      ],
      "text/plain": [
       "<IPython.core.display.HTML object>"
      ]
     },
     "execution_count": 2,
     "metadata": {},
     "output_type": "execute_result"
    }
   ],
   "source": [
    "HTML('''\n",
    "<script src='https://cdnjs.cloudflare.com/ajax/libs/sigma.js/1.2.1/sigma.min.js'></script>\n",
    "<script src='https://cdnjs.cloudflare.com/ajax/libs/sigma.js/1.2.1/plugins/sigma.plugins.relativeSize.min.js'></script>\n",
    "<script src='https://cdnjs.cloudflare.com/ajax/libs/sigma.js/1.2.1/plugins/sigma.layout.noverlap.min.js'></script>\n",
    "''')"
   ]
  },
  {
   "cell_type": "code",
   "execution_count": 3,
   "metadata": {},
   "outputs": [],
   "source": [
    "KEY = 'xCLYVrXbWluzdEWxDzbOLbB9qZBdpQqY'\n",
    "\n",
    "api = shodan.Shodan(KEY)"
   ]
  },
  {
   "cell_type": "code",
   "execution_count": null,
   "metadata": {
    "scrolled": true
   },
   "outputs": [],
   "source": [
    "nodes = set()\n",
    "edges = set()\n",
    "\n",
    "for result in api.search_cursor('city:\"Abu Dhabi\"'):\n",
    "    nodes.add(result['isp'])\n",
    "    nodes.add(result['ip_str'])\n",
    "    edges.add((result['ip_str'], result['isp']))"
   ]
  },
  {
   "cell_type": "code",
   "execution_count": null,
   "metadata": {
    "scrolled": true
   },
   "outputs": [],
   "source": [
    "G = nx.Graph()\n",
    "G.add_nodes_from(nodes)\n",
    "G.add_edges_from(edges)\n",
    "pos = nx.nx_agraph.graphviz_layout(G)"
   ]
  },
  {
   "cell_type": "code",
   "execution_count": null,
   "metadata": {
    "scrolled": true
   },
   "outputs": [],
   "source": [
    "graph = {'nodes': [], 'edges': []}\n",
    "for node in nodes:\n",
    "    graph['nodes'].append({'id': node, 'label': node, 'x': pos[node][0], 'y': pos[node][1], 'color': 'black' if '.' in node else 'red'})\n",
    "\n",
    "for i, edge in enumerate(edges):\n",
    "    graph['edges'].append({'id': i, 'source': edge[0], 'target': edge[1], 'color': 'rgba(200, 200, 200, .5)'})\n",
    "\n",
    "print(len(graph['nodes']))\n",
    "print(graph)"
   ]
  },
  {
   "cell_type": "code",
   "execution_count": null,
   "metadata": {},
   "outputs": [],
   "source": [
    "js_template = Template('''\n",
    "graph = $graph_data\n",
    "\n",
    "S = new sigma({\n",
    "  graph: graph,\n",
    "  renderer: {\n",
    "    container: 'container',\n",
    "    type: 'canvas'\n",
    "  }\n",
    "})\n",
    "\n",
    "sigma.plugins.relativeSize(S, 1)\n",
    "\n",
    "S.startNoverlap()\n",
    "\n",
    "S.refresh()\n",
    "''')\n",
    "\n",
    "html_template = Template('''\n",
    "<h1 style='font-family:sans-serif;text-align:center'>$title</h1>\n",
    "<br>\n",
    "<div id='container' style='height:800px'></div>\n",
    "<script>$js_text</script>\n",
    "''')"
   ]
  },
  {
   "cell_type": "code",
   "execution_count": null,
   "metadata": {
    "scrolled": false
   },
   "outputs": [],
   "source": [
    "js_text = js_template.substitute({\n",
    "    'graph_data': json.dumps(graph)\n",
    "})\n",
    "\n",
    "h = html_template.substitute({\n",
    "    'title': 'IPs and ISPs in Abu Dhabi',\n",
    "    'js_text': js_text\n",
    "})\n",
    "\n",
    "f = open('out.html', 'w+')\n",
    "f.write(h)\n",
    "f.close()\n",
    "\n",
    "HTML(h)"
   ]
  },
  {
   "cell_type": "code",
   "execution_count": null,
   "metadata": {},
   "outputs": [],
   "source": []
  }
 ],
 "metadata": {
  "kernelspec": {
   "display_name": "Python 3",
   "language": "python",
   "name": "python3"
  },
  "language_info": {
   "codemirror_mode": {
    "name": "ipython",
    "version": 3
   },
   "file_extension": ".py",
   "mimetype": "text/x-python",
   "name": "python",
   "nbconvert_exporter": "python",
   "pygments_lexer": "ipython3",
   "version": "3.6.7"
  }
 },
 "nbformat": 4,
 "nbformat_minor": 4
}
